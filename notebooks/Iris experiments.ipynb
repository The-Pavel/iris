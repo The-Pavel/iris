{
 "cells": [
  {
   "cell_type": "code",
   "execution_count": 1,
   "id": "48a47002",
   "metadata": {},
   "outputs": [],
   "source": [
    "%load_ext autoreload\n",
    "%autoreload 2"
   ]
  },
  {
   "cell_type": "code",
   "execution_count": 21,
   "id": "93279731",
   "metadata": {},
   "outputs": [],
   "source": [
    "from iris.trainer import Trainer\n",
    "trainer = Trainer(\"[CN] [Shanghai] [Batch647] Iris Dataset Experiment\")\n",
    "trainer.train(n_rows=10000, distance='haversine', time_transform=True)"
   ]
  },
  {
   "cell_type": "code",
   "execution_count": 8,
   "id": "23e398e8",
   "metadata": {},
   "outputs": [
    {
     "name": "stdout",
     "output_type": "stream",
     "text": [
      ".\r\n",
      "├── Iris\\ experiments.ipynb\r\n",
      "├── model.joblib\r\n",
      "└── pipeline.joblib\r\n",
      "\r\n",
      "0 directories, 3 files\r\n"
     ]
    }
   ],
   "source": [
    "!tree"
   ]
  },
  {
   "cell_type": "code",
   "execution_count": 9,
   "id": "66fee59a",
   "metadata": {},
   "outputs": [],
   "source": [
    "import mlflow\n",
    "from  mlflow.tracking import MlflowClient\n",
    "\n",
    "mlflow.set_tracking_uri(\"https://mlflow.lewagon.co/\")\n",
    "\n",
    "EXPERIMENT_NAME = \"Iris_dataset_experiment_v1\"\n",
    "\n",
    "client = MlflowClient()\n",
    "experiment_id = client.create_experiment(EXPERIMENT_NAME)\n",
    "\n",
    "for model in [\"linear\", \"Randomforest\"]:\n",
    "    run = client.create_run(experiment_id)\n",
    "    client.log_metric(run.info.run_id, \"rmse\", 4.5)\n",
    "    client.log_param(run.info.run_id, \"model\", model)"
   ]
  },
  {
   "cell_type": "code",
   "execution_count": 10,
   "id": "706436c1",
   "metadata": {},
   "outputs": [
    {
     "name": "stdout",
     "output_type": "stream",
     "text": [
      "[2021-07-20 10:27:34 +0800] [80878] [INFO] Starting gunicorn 20.1.0\n",
      "[2021-07-20 10:27:34 +0800] [80878] [INFO] Listening at: http://127.0.0.1:5000 (80878)\n",
      "[2021-07-20 10:27:34 +0800] [80878] [INFO] Using worker: sync\n",
      "[2021-07-20 10:27:34 +0800] [80880] [INFO] Booting worker with pid: 80880\n",
      "^C\n",
      "[2021-07-20 10:30:34 +0800] [80878] [INFO] Handling signal: int\n",
      "[2021-07-20 10:30:34 +0800] [80880] [INFO] Worker exiting (pid: 80880)\n"
     ]
    }
   ],
   "source": [
    "!mlflow ui"
   ]
  },
  {
   "cell_type": "markdown",
   "id": "e63e6d49",
   "metadata": {},
   "source": [
    "### Memoization"
   ]
  },
  {
   "cell_type": "markdown",
   "id": "09c85145",
   "metadata": {},
   "source": [
    "Caching value of a method if it has already been run before. Useful for methods that take long time to run (like making networks requests)"
   ]
  },
  {
   "cell_type": "code",
   "execution_count": 22,
   "id": "40b84ad5",
   "metadata": {},
   "outputs": [
    {
     "name": "stdout",
     "output_type": "stream",
     "text": [
      "memoized property return the same value:\n",
      "0.4952681516070322\n",
      "0.4952681516070322\n",
      "memoized property return the same value:\n",
      "0.8147011545917292\n",
      "0.8147011545917292\n"
     ]
    }
   ],
   "source": [
    "from memoized_property import memoized_property\n",
    "\n",
    "class MemoizedCar():\n",
    "    @memoized_property\n",
    "    def get_random_value(self):\n",
    "        return random()\n",
    "\n",
    "car = MemoizedCar()\n",
    "print('memoized property return the same value:')\n",
    "print(car.get_random_value)\n",
    "print(car.get_random_value)\n",
    "\n",
    "car2 = MemoizedCar()\n",
    "print('memoized property return the same value:')\n",
    "print(car2.get_random_value)\n",
    "print(car2.get_random_value)"
   ]
  }
 ],
 "metadata": {
  "kernelspec": {
   "display_name": "lewagon",
   "language": "python",
   "name": "lewagon"
  },
  "language_info": {
   "codemirror_mode": {
    "name": "ipython",
    "version": 3
   },
   "file_extension": ".py",
   "mimetype": "text/x-python",
   "name": "python",
   "nbconvert_exporter": "python",
   "pygments_lexer": "ipython3",
   "version": "3.8.6"
  },
  "toc": {
   "base_numbering": 1,
   "nav_menu": {},
   "number_sections": true,
   "sideBar": true,
   "skip_h1_title": false,
   "title_cell": "Table of Contents",
   "title_sidebar": "Contents",
   "toc_cell": false,
   "toc_position": {},
   "toc_section_display": true,
   "toc_window_display": false
  }
 },
 "nbformat": 4,
 "nbformat_minor": 5
}
